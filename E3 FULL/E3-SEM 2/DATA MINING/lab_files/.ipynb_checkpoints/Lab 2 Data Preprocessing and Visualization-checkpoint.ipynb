{
 "cells": [
  {
   "cell_type": "code",
   "execution_count": 5,
   "metadata": {},
   "outputs": [],
   "source": [
    "#Import Libraries\n",
    "import pandas as pd\n",
    "import matplotlib.pyplot as plt\n",
    "import seaborn as sns"
   ]
  },
  {
   "cell_type": "code",
   "execution_count": 14,
   "metadata": {},
   "outputs": [],
   "source": [
    "#Import Dataset - Car_sales.csv\n",
    "cars = pd.read_csv('Car_sales.csv')"
   ]
  },
  {
   "cell_type": "code",
   "execution_count": 15,
   "metadata": {},
   "outputs": [
    {
     "data": {
      "text/html": [
       "<div>\n",
       "<style scoped>\n",
       "    .dataframe tbody tr th:only-of-type {\n",
       "        vertical-align: middle;\n",
       "    }\n",
       "\n",
       "    .dataframe tbody tr th {\n",
       "        vertical-align: top;\n",
       "    }\n",
       "\n",
       "    .dataframe thead th {\n",
       "        text-align: right;\n",
       "    }\n",
       "</style>\n",
       "<table border=\"1\" class=\"dataframe\">\n",
       "  <thead>\n",
       "    <tr style=\"text-align: right;\">\n",
       "      <th></th>\n",
       "      <th>Manufacturer</th>\n",
       "      <th>Model</th>\n",
       "      <th>Vehicle_type</th>\n",
       "      <th>Price_in_thousands</th>\n",
       "      <th>Engine_size</th>\n",
       "      <th>Horsepower</th>\n",
       "      <th>Wheelbase</th>\n",
       "      <th>Width</th>\n",
       "      <th>Length</th>\n",
       "      <th>Curb_weight</th>\n",
       "      <th>Fuel_capacity</th>\n",
       "      <th>Fuel_efficiency</th>\n",
       "      <th>Power_perf_factor</th>\n",
       "      <th>Sales_in_thousands</th>\n",
       "      <th>__year_resale_value</th>\n",
       "    </tr>\n",
       "  </thead>\n",
       "  <tbody>\n",
       "    <tr>\n",
       "      <th>0</th>\n",
       "      <td>Acura</td>\n",
       "      <td>Integra</td>\n",
       "      <td>Passenger</td>\n",
       "      <td>21.50</td>\n",
       "      <td>1.8</td>\n",
       "      <td>140.0</td>\n",
       "      <td>101.2</td>\n",
       "      <td>67.3</td>\n",
       "      <td>172.4</td>\n",
       "      <td>2.639</td>\n",
       "      <td>13.2</td>\n",
       "      <td>28.0</td>\n",
       "      <td>58.280150</td>\n",
       "      <td>16.919</td>\n",
       "      <td>16.360</td>\n",
       "    </tr>\n",
       "    <tr>\n",
       "      <th>1</th>\n",
       "      <td>Acura</td>\n",
       "      <td>TL</td>\n",
       "      <td>Passenger</td>\n",
       "      <td>28.40</td>\n",
       "      <td>3.2</td>\n",
       "      <td>225.0</td>\n",
       "      <td>108.1</td>\n",
       "      <td>70.3</td>\n",
       "      <td>192.9</td>\n",
       "      <td>3.517</td>\n",
       "      <td>17.2</td>\n",
       "      <td>25.0</td>\n",
       "      <td>91.370778</td>\n",
       "      <td>39.384</td>\n",
       "      <td>19.875</td>\n",
       "    </tr>\n",
       "    <tr>\n",
       "      <th>2</th>\n",
       "      <td>Acura</td>\n",
       "      <td>CL</td>\n",
       "      <td>Passenger</td>\n",
       "      <td>NaN</td>\n",
       "      <td>3.2</td>\n",
       "      <td>225.0</td>\n",
       "      <td>106.9</td>\n",
       "      <td>70.6</td>\n",
       "      <td>192.0</td>\n",
       "      <td>3.470</td>\n",
       "      <td>17.2</td>\n",
       "      <td>26.0</td>\n",
       "      <td>NaN</td>\n",
       "      <td>14.114</td>\n",
       "      <td>18.225</td>\n",
       "    </tr>\n",
       "    <tr>\n",
       "      <th>3</th>\n",
       "      <td>Acura</td>\n",
       "      <td>RL</td>\n",
       "      <td>Passenger</td>\n",
       "      <td>42.00</td>\n",
       "      <td>3.5</td>\n",
       "      <td>210.0</td>\n",
       "      <td>114.6</td>\n",
       "      <td>71.4</td>\n",
       "      <td>196.6</td>\n",
       "      <td>3.850</td>\n",
       "      <td>18.0</td>\n",
       "      <td>22.0</td>\n",
       "      <td>91.389779</td>\n",
       "      <td>8.588</td>\n",
       "      <td>29.725</td>\n",
       "    </tr>\n",
       "    <tr>\n",
       "      <th>4</th>\n",
       "      <td>Audi</td>\n",
       "      <td>A4</td>\n",
       "      <td>Passenger</td>\n",
       "      <td>23.99</td>\n",
       "      <td>1.8</td>\n",
       "      <td>150.0</td>\n",
       "      <td>102.6</td>\n",
       "      <td>68.2</td>\n",
       "      <td>178.0</td>\n",
       "      <td>2.998</td>\n",
       "      <td>16.4</td>\n",
       "      <td>27.0</td>\n",
       "      <td>62.777639</td>\n",
       "      <td>20.397</td>\n",
       "      <td>22.255</td>\n",
       "    </tr>\n",
       "  </tbody>\n",
       "</table>\n",
       "</div>"
      ],
      "text/plain": [
       "  Manufacturer    Model Vehicle_type  Price_in_thousands  Engine_size  \\\n",
       "0        Acura  Integra    Passenger               21.50          1.8   \n",
       "1        Acura       TL    Passenger               28.40          3.2   \n",
       "2        Acura       CL    Passenger                 NaN          3.2   \n",
       "3        Acura       RL    Passenger               42.00          3.5   \n",
       "4         Audi       A4    Passenger               23.99          1.8   \n",
       "\n",
       "   Horsepower  Wheelbase  Width  Length  Curb_weight  Fuel_capacity  \\\n",
       "0       140.0      101.2   67.3   172.4        2.639           13.2   \n",
       "1       225.0      108.1   70.3   192.9        3.517           17.2   \n",
       "2       225.0      106.9   70.6   192.0        3.470           17.2   \n",
       "3       210.0      114.6   71.4   196.6        3.850           18.0   \n",
       "4       150.0      102.6   68.2   178.0        2.998           16.4   \n",
       "\n",
       "   Fuel_efficiency  Power_perf_factor  Sales_in_thousands  __year_resale_value  \n",
       "0             28.0          58.280150              16.919               16.360  \n",
       "1             25.0          91.370778              39.384               19.875  \n",
       "2             26.0                NaN              14.114               18.225  \n",
       "3             22.0          91.389779               8.588               29.725  \n",
       "4             27.0          62.777639              20.397               22.255  "
      ]
     },
     "execution_count": 15,
     "metadata": {},
     "output_type": "execute_result"
    }
   ],
   "source": [
    "#Read top five values\n",
    "cars.head(5)\n"
   ]
  },
  {
   "cell_type": "code",
   "execution_count": 16,
   "metadata": {},
   "outputs": [
    {
     "data": {
      "text/plain": [
       "Manufacturer            object\n",
       "Model                   object\n",
       "Vehicle_type            object\n",
       "Price_in_thousands     float64\n",
       "Engine_size            float64\n",
       "Horsepower             float64\n",
       "Wheelbase              float64\n",
       "Width                  float64\n",
       "Length                 float64\n",
       "Curb_weight            float64\n",
       "Fuel_capacity          float64\n",
       "Fuel_efficiency        float64\n",
       "Power_perf_factor      float64\n",
       "Sales_in_thousands     float64\n",
       "__year_resale_value    float64\n",
       "dtype: object"
      ]
     },
     "execution_count": 16,
     "metadata": {},
     "output_type": "execute_result"
    }
   ],
   "source": [
    "#Print dataframe info - data types of each column\n",
    "cars.dtypes"
   ]
  },
  {
   "cell_type": "code",
   "execution_count": 17,
   "metadata": {},
   "outputs": [
    {
     "data": {
      "text/plain": [
       "(159, 15)"
      ]
     },
     "execution_count": 17,
     "metadata": {},
     "output_type": "execute_result"
    }
   ],
   "source": [
    "#Print number of rows and columns\n",
    "cars.shape"
   ]
  },
  {
   "cell_type": "code",
   "execution_count": 18,
   "metadata": {},
   "outputs": [
    {
     "data": {
      "text/plain": [
       "(155, 15)"
      ]
     },
     "execution_count": 18,
     "metadata": {},
     "output_type": "execute_result"
    }
   ],
   "source": [
    "#Drop duplicate rows - if any\n",
    "p=cars\n",
    "#p.shape\n",
    "cars.drop_duplicates(keep=False,inplace=True)\n",
    "cars.shape"
   ]
  },
  {
   "cell_type": "code",
   "execution_count": 19,
   "metadata": {},
   "outputs": [
    {
     "data": {
      "text/plain": [
       "(155, 15)"
      ]
     },
     "execution_count": 19,
     "metadata": {},
     "output_type": "execute_result"
    }
   ],
   "source": [
    "#Print number of rows and columns after dropping duplicates\n",
    "cars.shape"
   ]
  },
  {
   "cell_type": "code",
   "execution_count": 21,
   "metadata": {},
   "outputs": [
    {
     "data": {
      "text/html": [
       "<div>\n",
       "<style scoped>\n",
       "    .dataframe tbody tr th:only-of-type {\n",
       "        vertical-align: middle;\n",
       "    }\n",
       "\n",
       "    .dataframe tbody tr th {\n",
       "        vertical-align: top;\n",
       "    }\n",
       "\n",
       "    .dataframe thead th {\n",
       "        text-align: right;\n",
       "    }\n",
       "</style>\n",
       "<table border=\"1\" class=\"dataframe\">\n",
       "  <thead>\n",
       "    <tr style=\"text-align: right;\">\n",
       "      <th></th>\n",
       "      <th>Price_in_thousands</th>\n",
       "      <th>Engine_size</th>\n",
       "      <th>Horsepower</th>\n",
       "      <th>Wheelbase</th>\n",
       "      <th>Width</th>\n",
       "      <th>Length</th>\n",
       "      <th>Curb_weight</th>\n",
       "      <th>Fuel_capacity</th>\n",
       "      <th>Fuel_efficiency</th>\n",
       "      <th>Power_perf_factor</th>\n",
       "      <th>Sales_in_thousands</th>\n",
       "      <th>__year_resale_value</th>\n",
       "    </tr>\n",
       "  </thead>\n",
       "  <tbody>\n",
       "    <tr>\n",
       "      <th>count</th>\n",
       "      <td>153.000000</td>\n",
       "      <td>154.000000</td>\n",
       "      <td>154.000000</td>\n",
       "      <td>154.000000</td>\n",
       "      <td>154.000000</td>\n",
       "      <td>154.000000</td>\n",
       "      <td>153.000000</td>\n",
       "      <td>154.000000</td>\n",
       "      <td>152.000000</td>\n",
       "      <td>153.000000</td>\n",
       "      <td>155.000000</td>\n",
       "      <td>119.000000</td>\n",
       "    </tr>\n",
       "    <tr>\n",
       "      <th>mean</th>\n",
       "      <td>27.344490</td>\n",
       "      <td>3.040909</td>\n",
       "      <td>185.279221</td>\n",
       "      <td>107.437013</td>\n",
       "      <td>71.075974</td>\n",
       "      <td>187.097403</td>\n",
       "      <td>3.371523</td>\n",
       "      <td>17.938312</td>\n",
       "      <td>23.875000</td>\n",
       "      <td>76.780988</td>\n",
       "      <td>53.230703</td>\n",
       "      <td>18.041134</td>\n",
       "    </tr>\n",
       "    <tr>\n",
       "      <th>std</th>\n",
       "      <td>14.405178</td>\n",
       "      <td>1.036435</td>\n",
       "      <td>56.598401</td>\n",
       "      <td>7.668669</td>\n",
       "      <td>3.408391</td>\n",
       "      <td>13.326189</td>\n",
       "      <td>0.632021</td>\n",
       "      <td>3.911391</td>\n",
       "      <td>4.302029</td>\n",
       "      <td>25.128699</td>\n",
       "      <td>68.361766</td>\n",
       "      <td>11.523007</td>\n",
       "    </tr>\n",
       "    <tr>\n",
       "      <th>min</th>\n",
       "      <td>9.235000</td>\n",
       "      <td>1.000000</td>\n",
       "      <td>55.000000</td>\n",
       "      <td>92.600000</td>\n",
       "      <td>62.600000</td>\n",
       "      <td>149.400000</td>\n",
       "      <td>1.895000</td>\n",
       "      <td>10.300000</td>\n",
       "      <td>15.000000</td>\n",
       "      <td>23.276272</td>\n",
       "      <td>0.110000</td>\n",
       "      <td>5.160000</td>\n",
       "    </tr>\n",
       "    <tr>\n",
       "      <th>25%</th>\n",
       "      <td>17.890000</td>\n",
       "      <td>2.300000</td>\n",
       "      <td>148.500000</td>\n",
       "      <td>103.000000</td>\n",
       "      <td>68.400000</td>\n",
       "      <td>177.525000</td>\n",
       "      <td>2.967000</td>\n",
       "      <td>15.800000</td>\n",
       "      <td>21.000000</td>\n",
       "      <td>60.087967</td>\n",
       "      <td>14.232500</td>\n",
       "      <td>11.250000</td>\n",
       "    </tr>\n",
       "    <tr>\n",
       "      <th>50%</th>\n",
       "      <td>22.799000</td>\n",
       "      <td>3.000000</td>\n",
       "      <td>175.000000</td>\n",
       "      <td>107.000000</td>\n",
       "      <td>70.450000</td>\n",
       "      <td>187.250000</td>\n",
       "      <td>3.340000</td>\n",
       "      <td>17.200000</td>\n",
       "      <td>24.000000</td>\n",
       "      <td>71.838039</td>\n",
       "      <td>29.450000</td>\n",
       "      <td>14.010000</td>\n",
       "    </tr>\n",
       "    <tr>\n",
       "      <th>75%</th>\n",
       "      <td>31.930000</td>\n",
       "      <td>3.500000</td>\n",
       "      <td>215.000000</td>\n",
       "      <td>112.200000</td>\n",
       "      <td>73.100000</td>\n",
       "      <td>195.625000</td>\n",
       "      <td>3.770000</td>\n",
       "      <td>19.725000</td>\n",
       "      <td>26.000000</td>\n",
       "      <td>89.401935</td>\n",
       "      <td>68.183500</td>\n",
       "      <td>19.782500</td>\n",
       "    </tr>\n",
       "    <tr>\n",
       "      <th>max</th>\n",
       "      <td>85.500000</td>\n",
       "      <td>8.000000</td>\n",
       "      <td>450.000000</td>\n",
       "      <td>138.700000</td>\n",
       "      <td>79.900000</td>\n",
       "      <td>224.500000</td>\n",
       "      <td>5.572000</td>\n",
       "      <td>32.000000</td>\n",
       "      <td>45.000000</td>\n",
       "      <td>188.144323</td>\n",
       "      <td>540.561000</td>\n",
       "      <td>67.550000</td>\n",
       "    </tr>\n",
       "  </tbody>\n",
       "</table>\n",
       "</div>"
      ],
      "text/plain": [
       "       Price_in_thousands  Engine_size  Horsepower   Wheelbase       Width  \\\n",
       "count          153.000000   154.000000  154.000000  154.000000  154.000000   \n",
       "mean            27.344490     3.040909  185.279221  107.437013   71.075974   \n",
       "std             14.405178     1.036435   56.598401    7.668669    3.408391   \n",
       "min              9.235000     1.000000   55.000000   92.600000   62.600000   \n",
       "25%             17.890000     2.300000  148.500000  103.000000   68.400000   \n",
       "50%             22.799000     3.000000  175.000000  107.000000   70.450000   \n",
       "75%             31.930000     3.500000  215.000000  112.200000   73.100000   \n",
       "max             85.500000     8.000000  450.000000  138.700000   79.900000   \n",
       "\n",
       "           Length  Curb_weight  Fuel_capacity  Fuel_efficiency  \\\n",
       "count  154.000000   153.000000     154.000000       152.000000   \n",
       "mean   187.097403     3.371523      17.938312        23.875000   \n",
       "std     13.326189     0.632021       3.911391         4.302029   \n",
       "min    149.400000     1.895000      10.300000        15.000000   \n",
       "25%    177.525000     2.967000      15.800000        21.000000   \n",
       "50%    187.250000     3.340000      17.200000        24.000000   \n",
       "75%    195.625000     3.770000      19.725000        26.000000   \n",
       "max    224.500000     5.572000      32.000000        45.000000   \n",
       "\n",
       "       Power_perf_factor  Sales_in_thousands  __year_resale_value  \n",
       "count         153.000000          155.000000           119.000000  \n",
       "mean           76.780988           53.230703            18.041134  \n",
       "std            25.128699           68.361766            11.523007  \n",
       "min            23.276272            0.110000             5.160000  \n",
       "25%            60.087967           14.232500            11.250000  \n",
       "50%            71.838039           29.450000            14.010000  \n",
       "75%            89.401935           68.183500            19.782500  \n",
       "max           188.144323          540.561000            67.550000  "
      ]
     },
     "execution_count": 21,
     "metadata": {},
     "output_type": "execute_result"
    }
   ],
   "source": [
    "#Print summary statistics for numerical variables\n",
    "cars.describe()"
   ]
  },
  {
   "cell_type": "code",
   "execution_count": 24,
   "metadata": {},
   "outputs": [
    {
     "data": {
      "text/plain": [
       "Manufacturer            0\n",
       "Model                   1\n",
       "Vehicle_type            0\n",
       "Price_in_thousands      2\n",
       "Engine_size             1\n",
       "Horsepower              1\n",
       "Wheelbase               1\n",
       "Width                   1\n",
       "Length                  1\n",
       "Curb_weight             2\n",
       "Fuel_capacity           1\n",
       "Fuel_efficiency         3\n",
       "Power_perf_factor       2\n",
       "Sales_in_thousands      0\n",
       "__year_resale_value    36\n",
       "dtype: int64"
      ]
     },
     "execution_count": 24,
     "metadata": {},
     "output_type": "execute_result"
    }
   ],
   "source": [
    "#Print number of missing values in each column\n",
    "\n",
    "cars.isnull().sum()"
   ]
  },
  {
   "cell_type": "code",
   "execution_count": 33,
   "metadata": {},
   "outputs": [
    {
     "data": {
      "text/plain": [
       "Manufacturer          0\n",
       "Model                 1\n",
       "Vehicle_type          0\n",
       "Price_in_thousands    2\n",
       "Engine_size           1\n",
       "Horsepower            1\n",
       "Wheelbase             1\n",
       "Width                 1\n",
       "Length                1\n",
       "Curb_weight           2\n",
       "Fuel_capacity         1\n",
       "Fuel_efficiency       3\n",
       "Power_perf_factor     2\n",
       "Sales_in_thousands    0\n",
       "dtype: int64"
      ]
     },
     "execution_count": 33,
     "metadata": {},
     "output_type": "execute_result"
    }
   ],
   "source": [
    "#Drop the column with most missing values\n",
    "\n",
    "cars.drop(['__year_resale_value'],axis=1,inplace=True)\n",
    "cars.isnull().sum()"
   ]
  },
  {
   "cell_type": "code",
   "execution_count": null,
   "metadata": {},
   "outputs": [],
   "source": [
    "#Drop the row(s) with categorical missing values\n",
    "cars=cars(pd.notnull(cars['Model']))\n"
   ]
  },
  {
   "cell_type": "code",
   "execution_count": null,
   "metadata": {},
   "outputs": [],
   "source": [
    "#Impute the rows with numerical missing values \n",
    "\n"
   ]
  },
  {
   "cell_type": "code",
   "execution_count": 15,
   "metadata": {},
   "outputs": [],
   "source": [
    "#Sort the data w.r.t Price - find the details of the most and the least expensive cars\n",
    "\n",
    "cars_sort =cars.sort"
   ]
  },
  {
   "cell_type": "code",
   "execution_count": 22,
   "metadata": {},
   "outputs": [],
   "source": [
    "#Write a function to find min and max values of any column\n",
    "def min_max_values(col):\n",
    "    '''The function takes the column name as the argument\n",
    "       and return the top & bottom observations in that data \n",
    "    '''\n",
    "    top = cars[col].idxmax()\n",
    "    top_obs = pd.DataFrame(cars.loc[top])\n",
    "    \n",
    "    bottom = cars[col].idxmin()\n",
    "    bot_obs = pd.DataFrame(cars.loc[bottom])\n",
    "    \n",
    "    min_max_obs = pd.concat([top_obs, bot_obs], axis = 1)\n",
    "    \n",
    "    return min_max_obs"
   ]
  },
  {
   "cell_type": "code",
   "execution_count": 16,
   "metadata": {},
   "outputs": [],
   "source": [
    "#Call the above function to find min max of horse power, length,  fuel efficiency\n",
    "\n"
   ]
  },
  {
   "cell_type": "code",
   "execution_count": 17,
   "metadata": {},
   "outputs": [],
   "source": [
    "#Plot histogrma of cotinuous numerical variable - Price sales, horse power,  fuel efficiency using subplot\n",
    "\n"
   ]
  },
  {
   "cell_type": "code",
   "execution_count": 18,
   "metadata": {},
   "outputs": [],
   "source": [
    "#Plot probability density distribution of cotinuous numerical variable - Length\n",
    "\n"
   ]
  },
  {
   "cell_type": "code",
   "execution_count": 34,
   "metadata": {},
   "outputs": [],
   "source": [
    "#Count by category - group by manufacturer\n"
   ]
  },
  {
   "cell_type": "code",
   "execution_count": 20,
   "metadata": {},
   "outputs": [],
   "source": [
    "#Select all numeroical variables\n",
    "cars_num = cars.select_dtypes(include = ['float64', 'int64'])\n",
    "cars_num.head()"
   ]
  },
  {
   "cell_type": "code",
   "execution_count": 19,
   "metadata": {},
   "outputs": [],
   "source": [
    "#Plot histogram of all numerical variables at a time (single command)\n",
    "\n"
   ]
  },
  {
   "cell_type": "code",
   "execution_count": 1,
   "metadata": {},
   "outputs": [],
   "source": [
    "#Print correlation coefficient value of price and sales\n",
    "\n"
   ]
  },
  {
   "cell_type": "code",
   "execution_count": 2,
   "metadata": {},
   "outputs": [],
   "source": [
    "#Plot correlation of price and sales using scatterplot\n",
    "\n"
   ]
  },
  {
   "cell_type": "code",
   "execution_count": null,
   "metadata": {},
   "outputs": [],
   "source": [
    "#Do pair plot of all numerical variables\n",
    "\n"
   ]
  },
  {
   "cell_type": "code",
   "execution_count": 3,
   "metadata": {},
   "outputs": [],
   "source": [
    "#Do Box plot of Sales of different Manufacturers\n",
    "\n"
   ]
  },
  {
   "cell_type": "code",
   "execution_count": 5,
   "metadata": {},
   "outputs": [],
   "source": [
    "#Do Box plot of other numerical variables w.r.t Manufacturer \n",
    "\n"
   ]
  },
  {
   "cell_type": "code",
   "execution_count": null,
   "metadata": {},
   "outputs": [],
   "source": [
    "#Divide the data into input and output - y = Sales in thousand, X = all other variables\n",
    "\n"
   ]
  },
  {
   "cell_type": "code",
   "execution_count": null,
   "metadata": {},
   "outputs": [],
   "source": [
    "#Encode categorical varible Vehicle type using one-hot encoder\n",
    "\n"
   ]
  },
  {
   "cell_type": "code",
   "execution_count": 6,
   "metadata": {},
   "outputs": [],
   "source": [
    "#Encode other categorical variables using label encoder\n",
    "\n"
   ]
  },
  {
   "cell_type": "code",
   "execution_count": 7,
   "metadata": {},
   "outputs": [],
   "source": [
    "#Split the data set into train and test set 70% - train set 30% - test set\n",
    "\n"
   ]
  },
  {
   "cell_type": "code",
   "execution_count": null,
   "metadata": {},
   "outputs": [],
   "source": [
    "#Apply feature scaling on numerical variables\n",
    "\n"
   ]
  },
  {
   "cell_type": "code",
   "execution_count": null,
   "metadata": {},
   "outputs": [],
   "source": [
    "#Apply other Visulaization techniques that you have learnt from the videos\n",
    "\n"
   ]
  }
 ],
 "metadata": {
  "kernelspec": {
   "display_name": "Python 3",
   "language": "python",
   "name": "python3"
  },
  "language_info": {
   "codemirror_mode": {
    "name": "ipython",
    "version": 3
   },
   "file_extension": ".py",
   "mimetype": "text/x-python",
   "name": "python",
   "nbconvert_exporter": "python",
   "pygments_lexer": "ipython3",
   "version": "3.7.1"
  },
  "varInspector": {
   "cols": {
    "lenName": 16,
    "lenType": 16,
    "lenVar": 40
   },
   "kernels_config": {
    "python": {
     "delete_cmd_postfix": "",
     "delete_cmd_prefix": "del ",
     "library": "var_list.py",
     "varRefreshCmd": "print(var_dic_list())"
    },
    "r": {
     "delete_cmd_postfix": ") ",
     "delete_cmd_prefix": "rm(",
     "library": "var_list.r",
     "varRefreshCmd": "cat(var_dic_list()) "
    }
   },
   "types_to_exclude": [
    "module",
    "function",
    "builtin_function_or_method",
    "instance",
    "_Feature"
   ],
   "window_display": false
  }
 },
 "nbformat": 4,
 "nbformat_minor": 2
}
