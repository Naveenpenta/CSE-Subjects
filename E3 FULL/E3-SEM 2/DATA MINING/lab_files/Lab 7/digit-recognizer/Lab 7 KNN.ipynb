{
 "cells": [
  {
   "cell_type": "markdown",
   "metadata": {},
   "source": [
    "## Digit Recognizer\n",
    "\n",
    "MNIST (\"Modified National Institute of Standards and Technology\") is the de facto “hello world” dataset of computer vision. Since its release in 1999, this classic dataset of handwritten images has served as the basis for benchmarking classification algorithms. As new machine learning techniques emerge, MNIST remains a reliable resource for researchers and learners alike.\n",
    "\n",
    "In this lab, your goal is to correctly identify digits from a dataset of tens of thousands of handwritten images.\n",
    "\n",
    "Dataset:\n",
    "https://www.kaggle.com/c/digit-recognizer/data"
   ]
  },
  {
   "cell_type": "code",
   "execution_count": 49,
   "metadata": {},
   "outputs": [],
   "source": [
    "#Import necessary libraries\n",
    "import pandas as pd\n",
    "import numpy as np\n",
    "import matplotlib.pyplot as plt"
   ]
  },
  {
   "cell_type": "code",
   "execution_count": 50,
   "metadata": {},
   "outputs": [],
   "source": [
    "#Import the train data\n",
    "df_train=pd.read_csv(\"train.csv\")"
   ]
  },
  {
   "cell_type": "code",
   "execution_count": 51,
   "metadata": {},
   "outputs": [
    {
     "data": {
      "text/plain": [
       "(42000, 785)"
      ]
     },
     "execution_count": 51,
     "metadata": {},
     "output_type": "execute_result"
    }
   ],
   "source": [
    "#Check the shape of the data\n",
    "df_train.shape"
   ]
  },
  {
   "cell_type": "code",
   "execution_count": 61,
   "metadata": {},
   "outputs": [
    {
     "name": "stdout",
     "output_type": "stream",
     "text": [
      "       label  pixel0  pixel1  pixel2  pixel3  pixel4  pixel5  pixel6  pixel7  \\\n",
      "15368      6       0       0       0       0       0       0       0       0   \n",
      "12507      8       0       0       0       0       0       0       0       0   \n",
      "26460      2       0       0       0       0       0       0       0       0   \n",
      "4377       0       0       0       0       0       0       0       0       0   \n",
      "3824       1       0       0       0       0       0       0       0       0   \n",
      "559        2       0       0       0       0       0       0       0       0   \n",
      "10430      5       0       0       0       0       0       0       0       0   \n",
      "21158      5       0       0       0       0       0       0       0       0   \n",
      "25038      7       0       0       0       0       0       0       0       0   \n",
      "7880       9       0       0       0       0       0       0       0       0   \n",
      "21001      5       0       0       0       0       0       0       0       0   \n",
      "796        6       0       0       0       0       0       0       0       0   \n",
      "39448      4       0       0       0       0       0       0       0       0   \n",
      "28637      0       0       0       0       0       0       0       0       0   \n",
      "38024      7       0       0       0       0       0       0       0       0   \n",
      "22484      5       0       0       0       0       0       0       0       0   \n",
      "27488      3       0       0       0       0       0       0       0       0   \n",
      "10172      1       0       0       0       0       0       0       0       0   \n",
      "5094       6       0       0       0       0       0       0       0       0   \n",
      "23847      6       0       0       0       0       0       0       0       0   \n",
      "38842      2       0       0       0       0       0       0       0       0   \n",
      "29535      5       0       0       0       0       0       0       0       0   \n",
      "39353      3       0       0       0       0       0       0       0       0   \n",
      "974        0       0       0       0       0       0       0       0       0   \n",
      "23045      6       0       0       0       0       0       0       0       0   \n",
      "30913      7       0       0       0       0       0       0       0       0   \n",
      "21467      2       0       0       0       0       0       0       0       0   \n",
      "13736      8       0       0       0       0       0       0       0       0   \n",
      "14514      1       0       0       0       0       0       0       0       0   \n",
      "31235      5       0       0       0       0       0       0       0       0   \n",
      "...      ...     ...     ...     ...     ...     ...     ...     ...     ...   \n",
      "13834      7       0       0       0       0       0       0       0       0   \n",
      "37388      4       0       0       0       0       0       0       0       0   \n",
      "35093      1       0       0       0       0       0       0       0       0   \n",
      "31494      1       0       0       0       0       0       0       0       0   \n",
      "11661      8       0       0       0       0       0       0       0       0   \n",
      "34928      3       0       0       0       0       0       0       0       0   \n",
      "28198      2       0       0       0       0       0       0       0       0   \n",
      "36283      6       0       0       0       0       0       0       0       0   \n",
      "26041      1       0       0       0       0       0       0       0       0   \n",
      "24498      7       0       0       0       0       0       0       0       0   \n",
      "6196       7       0       0       0       0       0       0       0       0   \n",
      "5152       3       0       0       0       0       0       0       0       0   \n",
      "9116       6       0       0       0       0       0       0       0       0   \n",
      "30679      6       0       0       0       0       0       0       0       0   \n",
      "33411      1       0       0       0       0       0       0       0       0   \n",
      "13989      5       0       0       0       0       0       0       0       0   \n",
      "21596      0       0       0       0       0       0       0       0       0   \n",
      "21617      2       0       0       0       0       0       0       0       0   \n",
      "17622      1       0       0       0       0       0       0       0       0   \n",
      "12439      1       0       0       0       0       0       0       0       0   \n",
      "9524       9       0       0       0       0       0       0       0       0   \n",
      "5787       8       0       0       0       0       0       0       0       0   \n",
      "2661       8       0       0       0       0       0       0       0       0   \n",
      "15025      8       0       0       0       0       0       0       0       0   \n",
      "30787      9       0       0       0       0       0       0       0       0   \n",
      "24168      1       0       0       0       0       0       0       0       0   \n",
      "23700      5       0       0       0       0       0       0       0       0   \n",
      "41913      6       0       0       0       0       0       0       0       0   \n",
      "6531       9       0       0       0       0       0       0       0       0   \n",
      "11782      6       0       0       0       0       0       0       0       0   \n",
      "\n",
      "       pixel8    ...     pixel774  pixel775  pixel776  pixel777  pixel778  \\\n",
      "15368       0    ...            0         0         0         0         0   \n",
      "12507       0    ...            0         0         0         0         0   \n",
      "26460       0    ...            0         0         0         0         0   \n",
      "4377        0    ...            0         0         0         0         0   \n",
      "3824        0    ...            0         0         0         0         0   \n",
      "559         0    ...            0         0         0         0         0   \n",
      "10430       0    ...            0         0         0         0         0   \n",
      "21158       0    ...            0         0         0         0         0   \n",
      "25038       0    ...            0         0         0         0         0   \n",
      "7880        0    ...            0         0         0         0         0   \n",
      "21001       0    ...            0         0         0         0         0   \n",
      "796         0    ...            0         0         0         0         0   \n",
      "39448       0    ...            0         0         0         0         0   \n",
      "28637       0    ...            0         0         0         0         0   \n",
      "38024       0    ...            0         0         0         0         0   \n",
      "22484       0    ...            0         0         0         0         0   \n",
      "27488       0    ...            0         0         0         0         0   \n",
      "10172       0    ...            0         0         0         0         0   \n",
      "5094        0    ...            0         0         0         0         0   \n",
      "23847       0    ...            0         0         0         0         0   \n",
      "38842       0    ...            0         0         0         0         0   \n",
      "29535       0    ...            0         0         0         0         0   \n",
      "39353       0    ...            0         0         0         0         0   \n",
      "974         0    ...            0         0         0         0         0   \n",
      "23045       0    ...            0         0         0         0         0   \n",
      "30913       0    ...            0         0         0         0         0   \n",
      "21467       0    ...            0         0         0         0         0   \n",
      "13736       0    ...            0         0         0         0         0   \n",
      "14514       0    ...            0         0         0         0         0   \n",
      "31235       0    ...            0         0         0         0         0   \n",
      "...       ...    ...          ...       ...       ...       ...       ...   \n",
      "13834       0    ...            0         0         0         0         0   \n",
      "37388       0    ...            0         0         0         0         0   \n",
      "35093       0    ...            0         0         0         0         0   \n",
      "31494       0    ...            0         0         0         0         0   \n",
      "11661       0    ...            0         0         0         0         0   \n",
      "34928       0    ...            0         0         0         0         0   \n",
      "28198       0    ...            0         0         0         0         0   \n",
      "36283       0    ...            0         0         0         0         0   \n",
      "26041       0    ...            0         0         0         0         0   \n",
      "24498       0    ...            0         0         0         0         0   \n",
      "6196        0    ...            0         0         0         0         0   \n",
      "5152        0    ...            0         0         0         0         0   \n",
      "9116        0    ...            0         0         0         0         0   \n",
      "30679       0    ...            0         0         0         0         0   \n",
      "33411       0    ...            0         0         0         0         0   \n",
      "13989       0    ...            0         0         0         0         0   \n",
      "21596       0    ...            0         0         0         0         0   \n",
      "21617       0    ...            0         0         0         0         0   \n",
      "17622       0    ...            0         0         0         0         0   \n",
      "12439       0    ...            0         0         0         0         0   \n",
      "9524        0    ...            0         0         0         0         0   \n",
      "5787        0    ...            0         0         0         0         0   \n",
      "2661        0    ...            0         0         0         0         0   \n",
      "15025       0    ...            0         0         0         0         0   \n",
      "30787       0    ...            0         0         0         0         0   \n",
      "24168       0    ...            0         0         0         0         0   \n",
      "23700       0    ...            0         0         0         0         0   \n",
      "41913       0    ...            0         0         0         0         0   \n",
      "6531        0    ...            0         0         0         0         0   \n",
      "11782       0    ...            0         0         0         0         0   \n",
      "\n",
      "       pixel779  pixel780  pixel781  pixel782  pixel783  \n",
      "15368         0         0         0         0         0  \n",
      "12507         0         0         0         0         0  \n",
      "26460         0         0         0         0         0  \n",
      "4377          0         0         0         0         0  \n",
      "3824          0         0         0         0         0  \n",
      "559           0         0         0         0         0  \n",
      "10430         0         0         0         0         0  \n",
      "21158         0         0         0         0         0  \n",
      "25038         0         0         0         0         0  \n",
      "7880          0         0         0         0         0  \n",
      "21001         0         0         0         0         0  \n",
      "796           0         0         0         0         0  \n",
      "39448         0         0         0         0         0  \n",
      "28637         0         0         0         0         0  \n",
      "38024         0         0         0         0         0  \n",
      "22484         0         0         0         0         0  \n",
      "27488         0         0         0         0         0  \n",
      "10172         0         0         0         0         0  \n",
      "5094          0         0         0         0         0  \n",
      "23847         0         0         0         0         0  \n",
      "38842         0         0         0         0         0  \n",
      "29535         0         0         0         0         0  \n",
      "39353         0         0         0         0         0  \n",
      "974           0         0         0         0         0  \n",
      "23045         0         0         0         0         0  \n",
      "30913         0         0         0         0         0  \n",
      "21467         0         0         0         0         0  \n",
      "13736         0         0         0         0         0  \n",
      "14514         0         0         0         0         0  \n",
      "31235         0         0         0         0         0  \n",
      "...         ...       ...       ...       ...       ...  \n",
      "13834         0         0         0         0         0  \n",
      "37388         0         0         0         0         0  \n",
      "35093         0         0         0         0         0  \n",
      "31494         0         0         0         0         0  \n",
      "11661         0         0         0         0         0  \n",
      "34928         0         0         0         0         0  \n",
      "28198         0         0         0         0         0  \n",
      "36283         0         0         0         0         0  \n",
      "26041         0         0         0         0         0  \n",
      "24498         0         0         0         0         0  \n",
      "6196          0         0         0         0         0  \n",
      "5152          0         0         0         0         0  \n",
      "9116          0         0         0         0         0  \n",
      "30679         0         0         0         0         0  \n",
      "33411         0         0         0         0         0  \n",
      "13989         0         0         0         0         0  \n",
      "21596         0         0         0         0         0  \n",
      "21617         0         0         0         0         0  \n",
      "17622         0         0         0         0         0  \n",
      "12439         0         0         0         0         0  \n",
      "9524          0         0         0         0         0  \n",
      "5787          0         0         0         0         0  \n",
      "2661          0         0         0         0         0  \n",
      "15025         0         0         0         0         0  \n",
      "30787         0         0         0         0         0  \n",
      "24168         0         0         0         0         0  \n",
      "23700         0         0         0         0         0  \n",
      "41913         0         0         0         0         0  \n",
      "6531          0         0         0         0         0  \n",
      "11782         0         0         0         0         0  \n",
      "\n",
      "[4200 rows x 785 columns]\n"
     ]
    }
   ],
   "source": [
    "#Select only 10% of the data for experiment. We will not use total data as KNN is very slow\n",
    "train_data=df_train.sample(n=4200)\n",
    "print(train_data)"
   ]
  },
  {
   "cell_type": "code",
   "execution_count": 62,
   "metadata": {},
   "outputs": [
    {
     "data": {
      "text/plain": [
       "(4200, 785)"
      ]
     },
     "execution_count": 62,
     "metadata": {},
     "output_type": "execute_result"
    }
   ],
   "source": [
    "train_data.shape"
   ]
  },
  {
   "cell_type": "code",
   "execution_count": 63,
   "metadata": {},
   "outputs": [
    {
     "data": {
      "text/plain": [
       "(4200, 785)"
      ]
     },
     "execution_count": 63,
     "metadata": {},
     "output_type": "execute_result"
    }
   ],
   "source": [
    "#Print shape of selected dataset\n",
    "train_data.shape"
   ]
  },
  {
   "cell_type": "code",
   "execution_count": 64,
   "metadata": {},
   "outputs": [
    {
     "data": {
      "text/html": [
       "<div>\n",
       "<style scoped>\n",
       "    .dataframe tbody tr th:only-of-type {\n",
       "        vertical-align: middle;\n",
       "    }\n",
       "\n",
       "    .dataframe tbody tr th {\n",
       "        vertical-align: top;\n",
       "    }\n",
       "\n",
       "    .dataframe thead th {\n",
       "        text-align: right;\n",
       "    }\n",
       "</style>\n",
       "<table border=\"1\" class=\"dataframe\">\n",
       "  <thead>\n",
       "    <tr style=\"text-align: right;\">\n",
       "      <th></th>\n",
       "      <th>label</th>\n",
       "      <th>pixel0</th>\n",
       "      <th>pixel1</th>\n",
       "      <th>pixel2</th>\n",
       "      <th>pixel3</th>\n",
       "      <th>pixel4</th>\n",
       "      <th>pixel5</th>\n",
       "      <th>pixel6</th>\n",
       "      <th>pixel7</th>\n",
       "      <th>pixel8</th>\n",
       "      <th>...</th>\n",
       "      <th>pixel774</th>\n",
       "      <th>pixel775</th>\n",
       "      <th>pixel776</th>\n",
       "      <th>pixel777</th>\n",
       "      <th>pixel778</th>\n",
       "      <th>pixel779</th>\n",
       "      <th>pixel780</th>\n",
       "      <th>pixel781</th>\n",
       "      <th>pixel782</th>\n",
       "      <th>pixel783</th>\n",
       "    </tr>\n",
       "  </thead>\n",
       "  <tbody>\n",
       "    <tr>\n",
       "      <th>15368</th>\n",
       "      <td>6</td>\n",
       "      <td>0</td>\n",
       "      <td>0</td>\n",
       "      <td>0</td>\n",
       "      <td>0</td>\n",
       "      <td>0</td>\n",
       "      <td>0</td>\n",
       "      <td>0</td>\n",
       "      <td>0</td>\n",
       "      <td>0</td>\n",
       "      <td>...</td>\n",
       "      <td>0</td>\n",
       "      <td>0</td>\n",
       "      <td>0</td>\n",
       "      <td>0</td>\n",
       "      <td>0</td>\n",
       "      <td>0</td>\n",
       "      <td>0</td>\n",
       "      <td>0</td>\n",
       "      <td>0</td>\n",
       "      <td>0</td>\n",
       "    </tr>\n",
       "    <tr>\n",
       "      <th>12507</th>\n",
       "      <td>8</td>\n",
       "      <td>0</td>\n",
       "      <td>0</td>\n",
       "      <td>0</td>\n",
       "      <td>0</td>\n",
       "      <td>0</td>\n",
       "      <td>0</td>\n",
       "      <td>0</td>\n",
       "      <td>0</td>\n",
       "      <td>0</td>\n",
       "      <td>...</td>\n",
       "      <td>0</td>\n",
       "      <td>0</td>\n",
       "      <td>0</td>\n",
       "      <td>0</td>\n",
       "      <td>0</td>\n",
       "      <td>0</td>\n",
       "      <td>0</td>\n",
       "      <td>0</td>\n",
       "      <td>0</td>\n",
       "      <td>0</td>\n",
       "    </tr>\n",
       "    <tr>\n",
       "      <th>26460</th>\n",
       "      <td>2</td>\n",
       "      <td>0</td>\n",
       "      <td>0</td>\n",
       "      <td>0</td>\n",
       "      <td>0</td>\n",
       "      <td>0</td>\n",
       "      <td>0</td>\n",
       "      <td>0</td>\n",
       "      <td>0</td>\n",
       "      <td>0</td>\n",
       "      <td>...</td>\n",
       "      <td>0</td>\n",
       "      <td>0</td>\n",
       "      <td>0</td>\n",
       "      <td>0</td>\n",
       "      <td>0</td>\n",
       "      <td>0</td>\n",
       "      <td>0</td>\n",
       "      <td>0</td>\n",
       "      <td>0</td>\n",
       "      <td>0</td>\n",
       "    </tr>\n",
       "    <tr>\n",
       "      <th>4377</th>\n",
       "      <td>0</td>\n",
       "      <td>0</td>\n",
       "      <td>0</td>\n",
       "      <td>0</td>\n",
       "      <td>0</td>\n",
       "      <td>0</td>\n",
       "      <td>0</td>\n",
       "      <td>0</td>\n",
       "      <td>0</td>\n",
       "      <td>0</td>\n",
       "      <td>...</td>\n",
       "      <td>0</td>\n",
       "      <td>0</td>\n",
       "      <td>0</td>\n",
       "      <td>0</td>\n",
       "      <td>0</td>\n",
       "      <td>0</td>\n",
       "      <td>0</td>\n",
       "      <td>0</td>\n",
       "      <td>0</td>\n",
       "      <td>0</td>\n",
       "    </tr>\n",
       "    <tr>\n",
       "      <th>3824</th>\n",
       "      <td>1</td>\n",
       "      <td>0</td>\n",
       "      <td>0</td>\n",
       "      <td>0</td>\n",
       "      <td>0</td>\n",
       "      <td>0</td>\n",
       "      <td>0</td>\n",
       "      <td>0</td>\n",
       "      <td>0</td>\n",
       "      <td>0</td>\n",
       "      <td>...</td>\n",
       "      <td>0</td>\n",
       "      <td>0</td>\n",
       "      <td>0</td>\n",
       "      <td>0</td>\n",
       "      <td>0</td>\n",
       "      <td>0</td>\n",
       "      <td>0</td>\n",
       "      <td>0</td>\n",
       "      <td>0</td>\n",
       "      <td>0</td>\n",
       "    </tr>\n",
       "  </tbody>\n",
       "</table>\n",
       "<p>5 rows × 785 columns</p>\n",
       "</div>"
      ],
      "text/plain": [
       "       label  pixel0  pixel1  pixel2  pixel3  pixel4  pixel5  pixel6  pixel7  \\\n",
       "15368      6       0       0       0       0       0       0       0       0   \n",
       "12507      8       0       0       0       0       0       0       0       0   \n",
       "26460      2       0       0       0       0       0       0       0       0   \n",
       "4377       0       0       0       0       0       0       0       0       0   \n",
       "3824       1       0       0       0       0       0       0       0       0   \n",
       "\n",
       "       pixel8    ...     pixel774  pixel775  pixel776  pixel777  pixel778  \\\n",
       "15368       0    ...            0         0         0         0         0   \n",
       "12507       0    ...            0         0         0         0         0   \n",
       "26460       0    ...            0         0         0         0         0   \n",
       "4377        0    ...            0         0         0         0         0   \n",
       "3824        0    ...            0         0         0         0         0   \n",
       "\n",
       "       pixel779  pixel780  pixel781  pixel782  pixel783  \n",
       "15368         0         0         0         0         0  \n",
       "12507         0         0         0         0         0  \n",
       "26460         0         0         0         0         0  \n",
       "4377          0         0         0         0         0  \n",
       "3824          0         0         0         0         0  \n",
       "\n",
       "[5 rows x 785 columns]"
      ]
     },
     "execution_count": 64,
     "metadata": {},
     "output_type": "execute_result"
    }
   ],
   "source": [
    "train_data.head(5)"
   ]
  },
  {
   "cell_type": "code",
   "execution_count": 65,
   "metadata": {},
   "outputs": [
    {
     "data": {
      "text/html": [
       "<div>\n",
       "<style scoped>\n",
       "    .dataframe tbody tr th:only-of-type {\n",
       "        vertical-align: middle;\n",
       "    }\n",
       "\n",
       "    .dataframe tbody tr th {\n",
       "        vertical-align: top;\n",
       "    }\n",
       "\n",
       "    .dataframe thead th {\n",
       "        text-align: right;\n",
       "    }\n",
       "</style>\n",
       "<table border=\"1\" class=\"dataframe\">\n",
       "  <thead>\n",
       "    <tr style=\"text-align: right;\">\n",
       "      <th></th>\n",
       "      <th>label</th>\n",
       "      <th>pixel0</th>\n",
       "      <th>pixel1</th>\n",
       "      <th>pixel2</th>\n",
       "      <th>pixel3</th>\n",
       "      <th>pixel4</th>\n",
       "      <th>pixel5</th>\n",
       "      <th>pixel6</th>\n",
       "      <th>pixel7</th>\n",
       "      <th>pixel8</th>\n",
       "      <th>...</th>\n",
       "      <th>pixel774</th>\n",
       "      <th>pixel775</th>\n",
       "      <th>pixel776</th>\n",
       "      <th>pixel777</th>\n",
       "      <th>pixel778</th>\n",
       "      <th>pixel779</th>\n",
       "      <th>pixel780</th>\n",
       "      <th>pixel781</th>\n",
       "      <th>pixel782</th>\n",
       "      <th>pixel783</th>\n",
       "    </tr>\n",
       "  </thead>\n",
       "  <tbody>\n",
       "    <tr>\n",
       "      <th>15368</th>\n",
       "      <td>6</td>\n",
       "      <td>0</td>\n",
       "      <td>0</td>\n",
       "      <td>0</td>\n",
       "      <td>0</td>\n",
       "      <td>0</td>\n",
       "      <td>0</td>\n",
       "      <td>0</td>\n",
       "      <td>0</td>\n",
       "      <td>0</td>\n",
       "      <td>...</td>\n",
       "      <td>0</td>\n",
       "      <td>0</td>\n",
       "      <td>0</td>\n",
       "      <td>0</td>\n",
       "      <td>0</td>\n",
       "      <td>0</td>\n",
       "      <td>0</td>\n",
       "      <td>0</td>\n",
       "      <td>0</td>\n",
       "      <td>0</td>\n",
       "    </tr>\n",
       "    <tr>\n",
       "      <th>12507</th>\n",
       "      <td>8</td>\n",
       "      <td>0</td>\n",
       "      <td>0</td>\n",
       "      <td>0</td>\n",
       "      <td>0</td>\n",
       "      <td>0</td>\n",
       "      <td>0</td>\n",
       "      <td>0</td>\n",
       "      <td>0</td>\n",
       "      <td>0</td>\n",
       "      <td>...</td>\n",
       "      <td>0</td>\n",
       "      <td>0</td>\n",
       "      <td>0</td>\n",
       "      <td>0</td>\n",
       "      <td>0</td>\n",
       "      <td>0</td>\n",
       "      <td>0</td>\n",
       "      <td>0</td>\n",
       "      <td>0</td>\n",
       "      <td>0</td>\n",
       "    </tr>\n",
       "    <tr>\n",
       "      <th>26460</th>\n",
       "      <td>2</td>\n",
       "      <td>0</td>\n",
       "      <td>0</td>\n",
       "      <td>0</td>\n",
       "      <td>0</td>\n",
       "      <td>0</td>\n",
       "      <td>0</td>\n",
       "      <td>0</td>\n",
       "      <td>0</td>\n",
       "      <td>0</td>\n",
       "      <td>...</td>\n",
       "      <td>0</td>\n",
       "      <td>0</td>\n",
       "      <td>0</td>\n",
       "      <td>0</td>\n",
       "      <td>0</td>\n",
       "      <td>0</td>\n",
       "      <td>0</td>\n",
       "      <td>0</td>\n",
       "      <td>0</td>\n",
       "      <td>0</td>\n",
       "    </tr>\n",
       "    <tr>\n",
       "      <th>4377</th>\n",
       "      <td>0</td>\n",
       "      <td>0</td>\n",
       "      <td>0</td>\n",
       "      <td>0</td>\n",
       "      <td>0</td>\n",
       "      <td>0</td>\n",
       "      <td>0</td>\n",
       "      <td>0</td>\n",
       "      <td>0</td>\n",
       "      <td>0</td>\n",
       "      <td>...</td>\n",
       "      <td>0</td>\n",
       "      <td>0</td>\n",
       "      <td>0</td>\n",
       "      <td>0</td>\n",
       "      <td>0</td>\n",
       "      <td>0</td>\n",
       "      <td>0</td>\n",
       "      <td>0</td>\n",
       "      <td>0</td>\n",
       "      <td>0</td>\n",
       "    </tr>\n",
       "    <tr>\n",
       "      <th>3824</th>\n",
       "      <td>1</td>\n",
       "      <td>0</td>\n",
       "      <td>0</td>\n",
       "      <td>0</td>\n",
       "      <td>0</td>\n",
       "      <td>0</td>\n",
       "      <td>0</td>\n",
       "      <td>0</td>\n",
       "      <td>0</td>\n",
       "      <td>0</td>\n",
       "      <td>...</td>\n",
       "      <td>0</td>\n",
       "      <td>0</td>\n",
       "      <td>0</td>\n",
       "      <td>0</td>\n",
       "      <td>0</td>\n",
       "      <td>0</td>\n",
       "      <td>0</td>\n",
       "      <td>0</td>\n",
       "      <td>0</td>\n",
       "      <td>0</td>\n",
       "    </tr>\n",
       "  </tbody>\n",
       "</table>\n",
       "<p>5 rows × 785 columns</p>\n",
       "</div>"
      ],
      "text/plain": [
       "       label  pixel0  pixel1  pixel2  pixel3  pixel4  pixel5  pixel6  pixel7  \\\n",
       "15368      6       0       0       0       0       0       0       0       0   \n",
       "12507      8       0       0       0       0       0       0       0       0   \n",
       "26460      2       0       0       0       0       0       0       0       0   \n",
       "4377       0       0       0       0       0       0       0       0       0   \n",
       "3824       1       0       0       0       0       0       0       0       0   \n",
       "\n",
       "       pixel8    ...     pixel774  pixel775  pixel776  pixel777  pixel778  \\\n",
       "15368       0    ...            0         0         0         0         0   \n",
       "12507       0    ...            0         0         0         0         0   \n",
       "26460       0    ...            0         0         0         0         0   \n",
       "4377        0    ...            0         0         0         0         0   \n",
       "3824        0    ...            0         0         0         0         0   \n",
       "\n",
       "       pixel779  pixel780  pixel781  pixel782  pixel783  \n",
       "15368         0         0         0         0         0  \n",
       "12507         0         0         0         0         0  \n",
       "26460         0         0         0         0         0  \n",
       "4377          0         0         0         0         0  \n",
       "3824          0         0         0         0         0  \n",
       "\n",
       "[5 rows x 785 columns]"
      ]
     },
     "execution_count": 65,
     "metadata": {},
     "output_type": "execute_result"
    }
   ],
   "source": [
    "#Look at top 5 rwos\n",
    "train_data.head(5)"
   ]
  },
  {
   "cell_type": "code",
   "execution_count": 66,
   "metadata": {},
   "outputs": [
    {
     "data": {
      "text/plain": [
       "array([6, 8, 2, 0, 1, 5, 7, 9, 4, 3], dtype=int64)"
      ]
     },
     "execution_count": 66,
     "metadata": {},
     "output_type": "execute_result"
    }
   ],
   "source": [
    "#Find number of unique class labels\n",
    "train_data['label'].unique()"
   ]
  },
  {
   "cell_type": "code",
   "execution_count": 67,
   "metadata": {},
   "outputs": [
    {
     "data": {
      "text/plain": [
       "label\n",
       "0    412\n",
       "1    474\n",
       "2    408\n",
       "3    442\n",
       "4    381\n",
       "5    422\n",
       "6    389\n",
       "7    424\n",
       "8    431\n",
       "9    417\n",
       "dtype: int64"
      ]
     },
     "execution_count": 67,
     "metadata": {},
     "output_type": "execute_result"
    }
   ],
   "source": [
    "#Print the number of examples for each class label\n",
    "train_data.groupby('label').size()"
   ]
  },
  {
   "cell_type": "code",
   "execution_count": 68,
   "metadata": {},
   "outputs": [
    {
     "name": "stdout",
     "output_type": "stream",
     "text": [
      "(4200, 784)\n",
      "(4200, 1)\n"
     ]
    }
   ],
   "source": [
    "#Prepare X and y\n",
    "X=train_data.iloc[:,1:].values\n",
    "Y=train_data.iloc[:,:1].values\n",
    "print(X.shape)\n",
    "print(Y.shape)"
   ]
  },
  {
   "cell_type": "code",
   "execution_count": 89,
   "metadata": {},
   "outputs": [
    {
     "name": "stdout",
     "output_type": "stream",
     "text": [
      "[6]\n"
     ]
    },
    {
     "data": {
      "image/png": "[encoded data removed]",
      "text/plain": [
       "<Figure size 432x288 with 1 Axes>"
      ]
     },
     "metadata": {
      "needs_background": "light"
     },
     "output_type": "display_data"
    },
    {
     "name": "stdout",
     "output_type": "stream",
     "text": [
      "[8]\n"
     ]
    },
    {
     "data": {
      "image/png": "[encoded data removed]",
      "text/plain": [
       "<Figure size 432x288 with 1 Axes>"
      ]
     },
     "metadata": {
      "needs_background": "light"
     },
     "output_type": "display_data"
    },
    {
     "name": "stdout",
     "output_type": "stream",
     "text": [
      "[2]\n"
     ]
    },
    {
     "data": {
      "image/png": "[encoded data removed]",
      "text/plain": [
       "<Figure size 432x288 with 1 Axes>"
      ]
     },
     "metadata": {
      "needs_background": "light"
     },
     "output_type": "display_data"
    },
    {
     "name": "stdout",
     "output_type": "stream",
     "text": [
      "[0]\n"
     ]
    },
    {
     "data": {
      "image/png": "[encoded data removed]",
      "text/plain": [
       "<Figure size 432x288 with 1 Axes>"
      ]
     },
     "metadata": {
      "needs_background": "light"
     },
     "output_type": "display_data"
    },
    {
     "name": "stdout",
     "output_type": "stream",
     "text": [
      "[1]\n"
     ]
    },
    {
     "data": {
      "image/png": "[encoded data removed]",
      "text/plain": [
       "<Figure size 432x288 with 1 Axes>"
      ]
     },
     "metadata": {
      "needs_background": "light"
     },
     "output_type": "display_data"
    }
   ],
   "source": [
    "#Visualize the images of the first 5 digits in X - also print the class label in y\n",
    "for i in range(5):\n",
    "    d=X[i]\n",
    "    print(Y[i])\n",
    "    d.shape=(28,28)\n",
    "    plt.imshow(255-d,cmap='gray')\n",
    "    plt.show()"
   ]
  },
  {
   "cell_type": "code",
   "execution_count": 75,
   "metadata": {},
   "outputs": [
    {
     "name": "stdout",
     "output_type": "stream",
     "text": [
      "(3150, 784) (1050, 784)\n",
      "(3150, 1) (1050, 1)\n"
     ]
    }
   ],
   "source": [
    "#Split the train dataset into training set (75%) and validation set(25%)\n",
    "from sklearn.model_selection import train_test_split\n",
    "X_train,X_test,Y_train,Y_test=train_test_split(X,Y,test_size=0.25,random_state=0)\n",
    "print(X_train.shape,X_test.shape)\n",
    "print(Y_train.shape,Y_test.shape)"
   ]
  },
  {
   "cell_type": "code",
   "execution_count": 76,
   "metadata": {},
   "outputs": [
    {
     "name": "stdout",
     "output_type": "stream",
     "text": [
      "(2362, 784) (1050, 784)\n",
      "(2362, 1) (1050, 1)\n"
     ]
    }
   ],
   "source": [
    "#Split the train dataset into training set (75%) and validation set(25%)\n",
    "from sklearn.model_selection import train_test_split\n",
    "X_train,X_vset,Y_train,Y_vset=train_test_split(X_train,Y_train,test_size=0.25,random_state=0)\n",
    "print(X_train.shape,X_test.shape)\n",
    "print(Y_train.shape,Y_test.shape)"
   ]
  },
  {
   "cell_type": "code",
   "execution_count": 78,
   "metadata": {},
   "outputs": [
    {
     "name": "stderr",
     "output_type": "stream",
     "text": [
      "/home/naveen/anaconda3/lib/python3.7/site-packages/ipykernel_launcher.py:5: DataConversionWarning: A column-vector y was passed when a 1d array was expected. Please change the shape of y to (n_samples, ), for example using ravel().\n",
      "  \"\"\"\n"
     ]
    },
    {
     "data": {
      "text/plain": [
       "KNeighborsClassifier(algorithm='auto', leaf_size=30, metric='minkowski',\n",
       "           metric_params=None, n_jobs=None, n_neighbors=5, p=2,\n",
       "           weights='uniform')"
      ]
     },
     "execution_count": 78,
     "metadata": {},
     "output_type": "execute_result"
    }
   ],
   "source": [
    "#Fit KNN classifier to the training data\n",
    "#Default parameters - n_neighbors=5, metric = 'minkowski', p=2\n",
    "from sklearn.neighbors import KNeighborsClassifier\n",
    "classifier=KNeighborsClassifier(n_neighbors=5,metric='minkowski',p=2)\n",
    "classifier.fit(X_train,Y_train)"
   ]
  },
  {
   "cell_type": "code",
   "execution_count": 83,
   "metadata": {},
   "outputs": [
    {
     "name": "stdout",
     "output_type": "stream",
     "text": [
      "(4200, 1) (1050,)\n"
     ]
    }
   ],
   "source": [
    "#Predict the validation set results\n",
    "y_pred=classifier.predict(X_test)\n",
    "y_pred\n",
    "print(Y.shape,y_pred.shape)"
   ]
  },
  {
   "cell_type": "code",
   "execution_count": 85,
   "metadata": {},
   "outputs": [
    {
     "data": {
      "text/plain": [
       "array([[103,   0,   0,   0,   0,   1,   1,   0,   0,   0],\n",
       "       [  0, 116,   1,   0,   0,   0,   0,   0,   0,   0],\n",
       "       [  1,  10, 101,   0,   1,   0,   1,   5,   0,   0],\n",
       "       [  0,   2,   1,  90,   0,   2,   1,   1,   2,   2],\n",
       "       [  0,   1,   0,   0,  84,   0,   0,   0,   0,   5],\n",
       "       [  1,   1,   0,   7,   0,  96,   2,   0,   1,   3],\n",
       "       [  5,   1,   0,   0,   0,   0,  93,   0,   0,   0],\n",
       "       [  0,   2,   0,   0,   1,   0,   0,  83,   0,   3],\n",
       "       [  3,   6,   1,   5,   1,   6,   0,   3,  86,   4],\n",
       "       [  0,   2,   0,   1,   2,   2,   0,  10,   0,  87]], dtype=int64)"
      ]
     },
     "execution_count": 85,
     "metadata": {},
     "output_type": "execute_result"
    }
   ],
   "source": [
    "#Print the confusion matrix\n",
    "from sklearn.metrics import confusion_matrix\n",
    "confusion_matrix(Y_test,y_pred)"
   ]
  },
  {
   "cell_type": "code",
   "execution_count": 86,
   "metadata": {},
   "outputs": [
    {
     "name": "stdout",
     "output_type": "stream",
     "text": [
      "              precision    recall  f1-score   support\n",
      "\n",
      "           0       0.91      0.98      0.94       105\n",
      "           1       0.82      0.99      0.90       117\n",
      "           2       0.97      0.85      0.91       119\n",
      "           3       0.87      0.89      0.88       101\n",
      "           4       0.94      0.93      0.94        90\n",
      "           5       0.90      0.86      0.88       111\n",
      "           6       0.95      0.94      0.94        99\n",
      "           7       0.81      0.93      0.87        89\n",
      "           8       0.97      0.75      0.84       115\n",
      "           9       0.84      0.84      0.84       104\n",
      "\n",
      "   micro avg       0.89      0.89      0.89      1050\n",
      "   macro avg       0.90      0.90      0.89      1050\n",
      "weighted avg       0.90      0.89      0.89      1050\n",
      "\n",
      "0.8942857142857142\n"
     ]
    }
   ],
   "source": [
    "# Printing classification report and accuracy\n",
    "from sklearn.metrics import accuracy_score,classification_report\n",
    "print(classification_report(Y_test,y_pred))\n",
    "print(accuracy_score(Y_test,y_pred))"
   ]
  },
  {
   "cell_type": "code",
   "execution_count": 88,
   "metadata": {},
   "outputs": [
    {
     "name": "stdout",
     "output_type": "stream",
     "text": [
      "7\n"
     ]
    },
    {
     "data": {
      "image/png": "[encoded data removed]",
      "text/plain": [
       "<Figure size 432x288 with 1 Axes>"
      ]
     },
     "metadata": {
      "needs_background": "light"
     },
     "output_type": "display_data"
    },
    {
     "name": "stdout",
     "output_type": "stream",
     "text": [
      "9\n"
     ]
    },
    {
     "data": {
      "image/png": "[encoded data removed]",
      "text/plain": [
       "<Figure size 432x288 with 1 Axes>"
      ]
     },
     "metadata": {
      "needs_background": "light"
     },
     "output_type": "display_data"
    },
    {
     "name": "stdout",
     "output_type": "stream",
     "text": [
      "0\n"
     ]
    },
    {
     "data": {
      "image/png": "[encoded data removed]",
      "text/plain": [
       "<Figure size 432x288 with 1 Axes>"
      ]
     },
     "metadata": {
      "needs_background": "light"
     },
     "output_type": "display_data"
    },
    {
     "name": "stdout",
     "output_type": "stream",
     "text": [
      "3\n"
     ]
    },
    {
     "data": {
      "image/png": "[encoded data removed]",
      "text/plain": [
       "<Figure size 432x288 with 1 Axes>"
      ]
     },
     "metadata": {
      "needs_background": "light"
     },
     "output_type": "display_data"
    },
    {
     "name": "stdout",
     "output_type": "stream",
     "text": [
      "1\n"
     ]
    },
    {
     "data": {
      "image/png": "[encoded data removed]",
      "text/plain": [
       "<Figure size 432x288 with 1 Axes>"
      ]
     },
     "metadata": {
      "needs_background": "light"
     },
     "output_type": "display_data"
    }
   ],
   "source": [
    "#Visualize the image of the first 5 digits in X_test - also print the predicted class label in y_pred\n",
    "for i in range(5):\n",
    "    d=X_test[i]\n",
    "    print(y_pred[i])\n",
    "    d.shape=(28,28)\n",
    "    plt.imshow(255-d,cmap='gray')\n",
    "    plt.show()"
   ]
  },
  {
   "cell_type": "code",
   "execution_count": 68,
   "metadata": {},
   "outputs": [
    {
     "ename": "IndentationError",
     "evalue": "expected an indented block (<ipython-input-68-936c0db09be9>, line 7)",
     "output_type": "error",
     "traceback": [
      "\u001b[1;36m  File \u001b[1;32m\"<ipython-input-68-936c0db09be9>\"\u001b[1;36m, line \u001b[1;32m7\u001b[0m\n\u001b[1;33m    def fit():\u001b[0m\n\u001b[1;37m      ^\u001b[0m\n\u001b[1;31mIndentationError\u001b[0m\u001b[1;31m:\u001b[0m expected an indented block\n"
     ]
    }
   ],
   "source": [
    "#Implement your own KNN classifier using Euclidean distance\n",
    "class MyKNN:\n",
    "    def __init__(self, n_neighbors):\n",
    "        #Initialize\n",
    "        \n",
    "                \n",
    "    def fit():\n",
    "        #Fit the data\n",
    "        \n",
    "        \n",
    "    def pred():\n",
    "        #Make prediction\n",
    "        \n",
    "        \n",
    "        "
   ]
  },
  {
   "cell_type": "code",
   "execution_count": null,
   "metadata": {},
   "outputs": [],
   "source": [
    "#Fit your model and make prediction\n",
    "\n"
   ]
  }
 ],
 "metadata": {
  "kernelspec": {
   "display_name": "Python 3",
   "language": "python",
   "name": "python3"
  },
  "language_info": {
   "codemirror_mode": {
    "name": "ipython",
    "version": 3
   },
   "file_extension": ".py",
   "mimetype": "text/x-python",
   "name": "python",
   "nbconvert_exporter": "python",
   "pygments_lexer": "ipython3",
   "version": "3.7.1"
  },
  "varInspector": {
   "cols": {
    "lenName": 16,
    "lenType": 16,
    "lenVar": 40
   },
   "kernels_config": {
    "python": {
     "delete_cmd_postfix": "",
     "delete_cmd_prefix": "del ",
     "library": "var_list.py",
     "varRefreshCmd": "print(var_dic_list())"
    },
    "r": {
     "delete_cmd_postfix": ") ",
     "delete_cmd_prefix": "rm(",
     "library": "var_list.r",
     "varRefreshCmd": "cat(var_dic_list()) "
    }
   },
   "types_to_exclude": [
    "module",
    "function",
    "builtin_function_or_method",
    "instance",
    "_Feature"
   ],
   "window_display": false
  }
 },
 "nbformat": 4,
 "nbformat_minor": 2
}
