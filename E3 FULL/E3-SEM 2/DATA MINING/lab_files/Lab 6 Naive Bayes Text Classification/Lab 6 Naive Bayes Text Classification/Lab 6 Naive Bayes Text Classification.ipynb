{
 "cells": [
  {
   "cell_type": "markdown",
   "metadata": {},
   "source": [
    "## Lab 6: Naive Bayes Text Classification"
   ]
  },
  {
   "cell_type": "markdown",
   "metadata": {},
   "source": [
    "# News Classifiction\n",
    "\n",
    "The 20 newsgroups dataset comprises around 18000 newsgroups posts on 20 topics split in two subsets: one for training (or development) and the other one for testing (or for performance evaluation). The split between the train and test set is based upon a messages posted before and after a specific date.\n",
    "\n",
    "The news are from each of the following 20 newsgroups.\n",
    "\n",
    "    alt.atheism\n",
    "    comp.graphics\n",
    "    comp.os.ms-windows.misc\n",
    "    comp.sys.ibm.pc.hardware\n",
    "    comp.sys.mac.hardware\n",
    "    comp.windows.x\n",
    "    misc.forsale\n",
    "    rec.autos\n",
    "    rec.motorcycles\n",
    "    rec.sport.baseball\n",
    "    rec.sport.hockey\n",
    "    sci.crypt\n",
    "    sci.electronics\n",
    "    sci.med\n",
    "    sci.space\n",
    "    soc.religion.christian\n",
    "    talk.politics.guns\n",
    "    talk.politics.mideast\n",
    "    talk.politics.misc\n",
    "    talk.religion.misc"
   ]
  },
  {
   "cell_type": "code",
   "execution_count": 3,
   "metadata": {},
   "outputs": [],
   "source": [
    "#import required libraries\n",
    "import pandas as pd\n",
    "import numpy as np\n",
    "import matplotlib.pyplot as plt"
   ]
  },
  {
   "cell_type": "code",
   "execution_count": 4,
   "metadata": {},
   "outputs": [],
   "source": [
    "#import 20 news group dataset from scikit learn datasets\n",
    "from sklearn.datasets import fetch_20newsgroups"
   ]
  },
  {
   "cell_type": "code",
   "execution_count": 28,
   "metadata": {},
   "outputs": [],
   "source": [
    "#The sklearn.datasets.fetch_20newsgroups function is a data fetching / caching\n",
    "#functions that downloads the data archive from the original 20 newsgroups \n",
    "#website, extracts the archive contents in the ~/scikit_learn_data/20news_home \n",
    "#folder and calls the sklearn.datasets.load_files on either the training or \n",
    "#testing set folder.\n",
    "\n",
    "#load 20 news group train subset - You need Internet for it/Or place the data file in Anaconda directory\n",
    "newsgroups_train = fetch_20newsgroups(subset='train', shuffle=True)\n",
    "#load 20 news group test subset\n",
    "newsgroups_test = fetch_20newsgroups(subset='test', shuffle=True)"
   ]
  },
  {
   "cell_type": "code",
   "execution_count": 29,
   "metadata": {},
   "outputs": [
    {
     "name": "stdout",
     "output_type": "stream",
     "text": [
      "['alt.atheism', 'comp.graphics', 'comp.os.ms-windows.misc', 'comp.sys.ibm.pc.hardware', 'comp.sys.mac.hardware', 'comp.windows.x', 'misc.forsale', 'rec.autos', 'rec.motorcycles', 'rec.sport.baseball', 'rec.sport.hockey', 'sci.crypt', 'sci.electronics', 'sci.med', 'sci.space', 'soc.religion.christian', 'talk.politics.guns', 'talk.politics.mideast', 'talk.politics.misc', 'talk.religion.misc']\n",
      "['alt.atheism', 'comp.graphics', 'comp.os.ms-windows.misc', 'comp.sys.ibm.pc.hardware', 'comp.sys.mac.hardware', 'comp.windows.x', 'misc.forsale', 'rec.autos', 'rec.motorcycles', 'rec.sport.baseball', 'rec.sport.hockey', 'sci.crypt', 'sci.electronics', 'sci.med', 'sci.space', 'soc.religion.christian', 'talk.politics.guns', 'talk.politics.mideast', 'talk.politics.misc', 'talk.religion.misc']\n"
     ]
    }
   ],
   "source": [
    "# print all target labels - dataset.target_names\n",
    "\n",
    "dataset=newsgroups_train.target_names\n",
    "print(dataset)\n",
    "print(newsgroups_test.target_names)"
   ]
  },
  {
   "cell_type": "code",
   "execution_count": 30,
   "metadata": {},
   "outputs": [
    {
     "name": "stdout",
     "output_type": "stream",
     "text": [
      "alt.atheism\n"
     ]
    }
   ],
   "source": [
    "altatheism=dataset[0]\n",
    "print(altatheism)\n",
    "#print(newsgroups_train.target)\n",
    "#newsgroups_train.data"
   ]
  },
  {
   "cell_type": "code",
   "execution_count": 31,
   "metadata": {},
   "outputs": [],
   "source": [
    "#prepare a list of categories 'alt.atheism', 'comp.graphics','sci.space'\n",
    "classes = ['alt.atheism','comp.graphics','sci.space']\n",
    "#newsgroups_train = fetch_20newsgroups(subset='train', categories=classes)\n",
    "#from collections import Counter\n",
    "#Counter([classes[t] for t in newsgroups_train.target])\n",
    "classes"
   ]
  },
  {
   "cell_type": "code",
   "execution_count": 37,
   "metadata": {},
   "outputs": [],
   "source": [
    "#load 20 news group train subset with three categories 'alt.atheism', \n",
    "#'comp.graphics','sci.space' by passing the list to fetch_20newsgroups \n",
    "#newsgroups_train = fetch_20newsgroups(subset='train', categories=catlist)\n",
    "catlist_train=['alt.atheism','comp.graphics','sci.space']\n",
    "newsgroups_train=fetch_20newsgroups(subset='train',categories=catlist_train)\n",
    "#newsgroups_train.target_names\n",
    "#load 20 news group test subset with three categories 'alt.atheism', \n",
    "#'comp.graphics','sci.space' by passing the list to fetch_20newsgroups \n",
    "catlist_test=['alt.atheism','comp.graphics','sci.space']\n",
    "newsgroups_test=fetch_20newsgroups(subset='test',categories=catlist_test)\n"
   ]
  },
  {
   "cell_type": "code",
   "execution_count": 40,
   "metadata": {},
   "outputs": [
    {
     "name": "stdout",
     "output_type": "stream",
     "text": [
      "['alt.atheism', 'comp.graphics', 'sci.space']\n",
      "['alt.atheism', 'comp.graphics', 'sci.space']\n"
     ]
    }
   ],
   "source": [
    "# print new training set target names(labels)\n",
    "print(newsgroups_train.target_names)\n",
    "print(newsgroups_test.target_names)"
   ]
  },
  {
   "cell_type": "code",
   "execution_count": 44,
   "metadata": {},
   "outputs": [
    {
     "data": {
      "text/plain": [
       "(1657,)"
      ]
     },
     "execution_count": 44,
     "metadata": {},
     "output_type": "execute_result"
    }
   ],
   "source": [
    "# print shape of targets\n",
    "newsgroups_train.target.shape"
   ]
  },
  {
   "cell_type": "code",
   "execution_count": 45,
   "metadata": {},
   "outputs": [
    {
     "name": "stdout",
     "output_type": "stream",
     "text": [
      "['/home/naveen/scikit_learn_data/20news_home/20news-bydate-train/sci.space/60869'\n",
      " '/home/naveen/scikit_learn_data/20news_home/20news-bydate-train/comp.graphics/38633'\n",
      " '/home/naveen/scikit_learn_data/20news_home/20news-bydate-train/alt.atheism/53534'\n",
      " ...\n",
      " '/home/naveen/scikit_learn_data/20news_home/20news-bydate-train/sci.space/60915'\n",
      " '/home/naveen/scikit_learn_data/20news_home/20news-bydate-train/sci.space/60176'\n",
      " '/home/naveen/scikit_learn_data/20news_home/20news-bydate-train/sci.space/60929']\n",
      "['/home/naveen/scikit_learn_data/20news_home/20news-bydate-test/sci.space/61478'\n",
      " '/home/naveen/scikit_learn_data/20news_home/20news-bydate-test/comp.graphics/39046'\n",
      " '/home/naveen/scikit_learn_data/20news_home/20news-bydate-test/comp.graphics/39631'\n",
      " ...\n",
      " '/home/naveen/scikit_learn_data/20news_home/20news-bydate-test/alt.atheism/53598'\n",
      " '/home/naveen/scikit_learn_data/20news_home/20news-bydate-test/comp.graphics/38995'\n",
      " '/home/naveen/scikit_learn_data/20news_home/20news-bydate-test/sci.space/61266']\n"
     ]
    }
   ],
   "source": [
    "#print training set filenames - dataset.filenames\n",
    "print(newsgroups_train.filenames)\n",
    "print(newsgroups_test.filenames)\n"
   ]
  },
  {
   "cell_type": "code",
   "execution_count": 54,
   "metadata": {},
   "outputs": [
    {
     "name": "stdout",
     "output_type": "stream",
     "text": [
      "From: cobb@alexia.lis.uiuc.edu (Mike Cobb)\n",
      "Subject: Christian Morality is\n",
      "Organization: University of Illinois at Urbana\n",
      "Lines: 51\n",
      "\n",
      "In <11836@vice.ICO.TEK.COM> bobbe@vice.ICO.TEK.COM (Robert Beauchaine) writes:\n",
      "\n",
      ">In article <C5L1Ey.Jts@news.cso.uiuc.edu> cobb@alexia.lis.uiuc.edu (Mike \n",
      "Cobb) writes:\n",
      ">>In <11825@vice.ICO.TEK.COM> bobbe@vice.ICO.TEK.COM (Robert Beauchaine) \n",
      "writes:\n",
      ">>\n",
      ">>\n",
      ">>>  Actually, my atheism is based on ignorance.  Ignorance of the\n",
      ">>>  existence of any god.  Don't fall into the \"atheists don't believe\n",
      ">>>  because of their pride\" mistake.\n",
      ">>\n",
      ">>How do you know it's based on ignorance, couldn't that be wrong? Why would it\n",
      ">>be wrong \n",
      ">>to fall into the trap that you mentioned? \n",
      ">>\n",
      "\n",
      ">  If I'm wrong, god is free at any time to correct my mistake.  That\n",
      ">  he continues not to do so, while supposedly proclaiming his\n",
      ">  undying love for my eternal soul, speaks volumes.\n",
      "\n",
      "What are the volumes that it speaks besides the fact that he leaves your \n",
      "choices up to you?\n",
      "\n",
      ">  As for the trap, you are not in a position to tell me that I don't\n",
      ">  believe in god because I do not wish to.  Unless you can know my\n",
      ">  motivations better than I do myself, you should believe me when I\n",
      ">  say that I earnestly searched for god for years and never found\n",
      ">  him.\n",
      "\n",
      "I definitely agree that it's rather presumptuous for either \"side\" to give some\n",
      "psychological reasoning for another's belief.\n",
      "\n",
      "MAC\n",
      ">/\\/\\/\\/\\/\\/\\/\\/\\/\\/\\/\\/\\/\\/\\/\\/\\/\\/\\/\\/\\/\\/\\/\\/\\/\\/\\/\\/\\/\\/\\/\\/\\/\\/\\ \n",
      "\n",
      ">Bob Beauchaine bobbe@vice.ICO.TEK.COM \n",
      "\n",
      ">They said that Queens could stay, they blew the Bronx away,\n",
      ">and sank Manhattan out at sea.\n",
      "\n",
      ">^^^^^^^^^^^^^^^^^^^^^^^^^^^^^^^^^^^^^^^^^^^^^^^^^^^^^^^^^^^^^^^^^^^^\n",
      "\n",
      "--\n",
      "****************************************************************\n",
      "                                                    Michael A. Cobb\n",
      " \"...and I won't raise taxes on the middle     University of Illinois\n",
      "    class to pay for my programs.\"                 Champaign-Urbana\n",
      "          -Bill Clinton 3rd Debate             cobb@alexia.lis.uiuc.edu\n",
      "                                              \n",
      "With new taxes and spending cuts we'll still have 310 billion dollar deficits.\n",
      "\n"
     ]
    }
   ],
   "source": [
    "# print new training data of 6th article - use dataet.data[index]\n",
    "\n",
    "print(newsgroups_train.data[6])"
   ]
  },
  {
   "cell_type": "code",
   "execution_count": 108,
   "metadata": {},
   "outputs": [
    {
     "name": "stdout",
     "output_type": "stream",
     "text": [
      "[0 0 0 0]\n"
     ]
    }
   ],
   "source": [
    "#by using countvectorizer convert train data into numeric format considering only 1500 features\n",
    "from sklearn.feature_extraction.text import CountVectorizer\n",
    "count_vect = CountVectorizer(max_features = 1500)\n",
    "vectors = count_vect.fit_transform(newsgroups_train.data)\n",
    "vectors = vectors.toarray()\n",
    "#print(vectors)\n",
    "#print(vectors.shape)\n",
    "print(vectors[5][1000:1004])"
   ]
  },
  {
   "cell_type": "code",
   "execution_count": 53,
   "metadata": {},
   "outputs": [
    {
     "data": {
      "text/plain": [
       "MultinomialNB(alpha=1.0, class_prior=None, fit_prior=True)"
      ]
     },
     "execution_count": 53,
     "metadata": {},
     "output_type": "execute_result"
    }
   ],
   "source": [
    "# use MultinomialNB(alpha=.01) for training - alpha is Laplace Smoothing \n",
    "from sklearn.naive_bayes import MultinomialNB\n",
    "mnb=MultinomialNB()\n",
    "mnb"
   ]
  },
  {
   "cell_type": "code",
   "execution_count": 109,
   "metadata": {},
   "outputs": [
    {
     "name": "stdout",
     "output_type": "stream",
     "text": [
      "(1102, 1500)\n"
     ]
    }
   ],
   "source": [
    "#by using countvectorizer convert test data into numeric format considering only 1500 features\n",
    "#count_vect_test=CountVectorizer(max_features=1500)\n",
    "#vectors_test = count_vect_test.fit_transform(newsgroups_test.data)\n",
    "vectors_test = count_vect.transform(newsgroups_test.data)\n",
    "vectors_test=vectors_test.toarray()\n",
    "print(vectors_test.shape)"
   ]
  },
  {
   "cell_type": "code",
   "execution_count": 110,
   "metadata": {},
   "outputs": [
    {
     "name": "stdout",
     "output_type": "stream",
     "text": [
      "[2 1 1 ... 0 1 2]\n"
     ]
    }
   ],
   "source": [
    "#predict target labels for testing set\n",
    "mnb.fit(vectors_test,newsgroups_test.target)\n",
    "pred = mnb.predict(vectors_test)\n",
    "print(pred)"
   ]
  },
  {
   "cell_type": "code",
   "execution_count": 111,
   "metadata": {},
   "outputs": [
    {
     "data": {
      "text/plain": [
       "0.956442831215971"
      ]
     },
     "execution_count": 111,
     "metadata": {},
     "output_type": "execute_result"
    }
   ],
   "source": [
    "#find accuacy score on test set\n",
    "from sklearn import metrics\n",
    "#pred=pred.reshape(-1,1)\n",
    "y_test=newsgroups_test.target\n",
    "metrics.accuracy_score(y_test,pred)\n"
   ]
  },
  {
   "cell_type": "code",
   "execution_count": 101,
   "metadata": {},
   "outputs": [
    {
     "data": {
      "text/plain": [
       "array([[312,   1,   6],\n",
       "       [  6, 374,   9],\n",
       "       [  4,  15, 375]], dtype=int64)"
      ]
     },
     "execution_count": 101,
     "metadata": {},
     "output_type": "execute_result"
    }
   ],
   "source": [
    "metrics.confusion_matrix(y_test,pred)"
   ]
  },
  {
   "cell_type": "code",
   "execution_count": 112,
   "metadata": {},
   "outputs": [
    {
     "name": "stdout",
     "output_type": "stream",
     "text": [
      "[2 1 1 ... 0 1 2]\n"
     ]
    },
    {
     "data": {
      "text/plain": [
       "0.9682395644283122"
      ]
     },
     "execution_count": 112,
     "metadata": {},
     "output_type": "execute_result"
    }
   ],
   "source": [
    "# used TfidfVectorizer insted of ContVectorizer and use multinomialNB\n",
    "#find test set accuracy\n",
    "\n",
    "from sklearn.feature_extraction.text import TfidfVectorizer\n",
    "count_vect = TfidfVectorizer(max_features = 1500)\n",
    "vectors = count_vect.fit_transform(newsgroups_train.data)\n",
    "vectors = vectors.toarray()\n",
    "\n",
    "\n",
    "\n",
    "# use MultinomialNB(alpha=.01) for training - alpha is Laplace Smoothing \n",
    "from sklearn.naive_bayes import MultinomialNB\n",
    "mnb=MultinomialNB()\n",
    "\n",
    "#by using countvectorizer convert test data into numeric format considering only 1500 features\n",
    "#count_vect_test=TfidfVectorizer(max_features=1500)\n",
    "vectors_test = count_vect.transform(newsgroups_test.data)\n",
    "vectors_test=vectors_test.toarray()\n",
    "#print(vectors_test.shape)\n",
    "\n",
    "\n",
    "#predict target labels for testing set\n",
    "mnb.fit(vectors_test,newsgroups_test.target)\n",
    "pred = mnb.predict(vectors_test)\n",
    "print(pred)\n",
    "\n",
    "\n",
    "#find accuacy score on test set\n",
    "from sklearn import metrics\n",
    "#pred=pred.reshape(-1,1)\n",
    "y_test=newsgroups_test.target\n",
    "metrics.accuracy_score(y_test,pred)\n"
   ]
  },
  {
   "cell_type": "code",
   "execution_count": 113,
   "metadata": {},
   "outputs": [
    {
     "name": "stdout",
     "output_type": "stream",
     "text": [
      "[2 1 1 ... 0 1 2]\n"
     ]
    },
    {
     "data": {
      "text/plain": [
       "0.9745916515426497"
      ]
     },
     "execution_count": 113,
     "metadata": {},
     "output_type": "execute_result"
    }
   ],
   "source": [
    "#try with avoiding stopwords and repeat the same\n",
    "\n",
    "# used TfidfVectorizer insted of ContVectorizer and use multinomialNB\n",
    "#find test set accuracy\n",
    "\n",
    "from sklearn.feature_extraction.text import TfidfVectorizer\n",
    "count_vect = TfidfVectorizer(max_features = 1500,stop_words='english')\n",
    "vectors = count_vect.fit_transform(newsgroups_train.data)\n",
    "vectors = vectors.toarray()\n",
    "\n",
    "\n",
    "\n",
    "# use MultinomialNB(alpha=.01) for training - alpha is Laplace Smoothing \n",
    "from sklearn.naive_bayes import MultinomialNB\n",
    "mnb=MultinomialNB()\n",
    "\n",
    "#by using countvectorizer convert test data into numeric format considering only 1500 features\n",
    "#count_vect_test=TfidfVectorizer(max_features=1500,stop_words='english')\n",
    "vectors_test = count_vect.transform(newsgroups_test.data)\n",
    "vectors_test=vectors_test.toarray()\n",
    "#print(vectors_test.shape)\n",
    "\n",
    "\n",
    "#predict target labels for testing set\n",
    "mnb.fit(vectors_test,newsgroups_test.target)\n",
    "pred = mnb.predict(vectors_test)\n",
    "print(pred)\n",
    "\n",
    "\n",
    "#find accuacy score on test set\n",
    "from sklearn import metrics\n",
    "#pred=pred.reshape(-1,1)\n",
    "y_test=newsgroups_test.target\n",
    "metrics.accuracy_score(y_test,pred)\n",
    "\n",
    "\n",
    "\n",
    "\n",
    "\n",
    "\n",
    "\n"
   ]
  },
  {
   "cell_type": "code",
   "execution_count": null,
   "metadata": {},
   "outputs": [],
   "source": [
    "#Extra - try grid search for count vectorizer, tfidf, different classifiers "
   ]
  },
  {
   "cell_type": "code",
   "execution_count": null,
   "metadata": {},
   "outputs": [],
   "source": [
    "#Extra - try with stemming also"
   ]
  },
  {
   "cell_type": "code",
   "execution_count": null,
   "metadata": {},
   "outputs": [],
   "source": []
  }
 ],
 "metadata": {
  "kernelspec": {
   "display_name": "Python 3",
   "language": "python",
   "name": "python3"
  },
  "language_info": {
   "codemirror_mode": {
    "name": "ipython",
    "version": 3
   },
   "file_extension": ".py",
   "mimetype": "text/x-python",
   "name": "python",
   "nbconvert_exporter": "python",
   "pygments_lexer": "ipython3",
   "version": "3.7.1"
  }
 },
 "nbformat": 4,
 "nbformat_minor": 2
}
